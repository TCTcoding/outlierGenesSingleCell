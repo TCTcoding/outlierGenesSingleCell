{
 "cells": [
  {
   "cell_type": "code",
   "execution_count": 5,
   "metadata": {},
   "outputs": [],
   "source": [
    "import pandas as pd\n",
    "import numpy as np"
   ]
  },
  {
   "cell_type": "markdown",
   "metadata": {},
   "source": [
    "# import data"
   ]
  },
  {
   "cell_type": "markdown",
   "metadata": {},
   "source": [
    "This method was designed on a dataset where the columns represent genes and the rows represent cell types. Values are the log2 values of the counts per median (CPM) used to normalize the expression data across the cells to account for read depth differences between the cells. These data have already been filtered to remove cells that did not pass thresholds for read counts and other technical measurements."
   ]
  },
  {
   "cell_type": "code",
   "execution_count": 2,
   "metadata": {},
   "outputs": [],
   "source": [
    "filename = 'single_cell_data.tsv.gz'\n",
    "data = pd.read_csv(filename, sep='\\t', index_col='index')\n",
    "data = data.loc[:,data.columns.str.contains('TGGT1')] #data inclues ERCC (RNA standards) that do not need be considered for this part of the analysis"
   ]
  },
  {
   "cell_type": "markdown",
   "metadata": {},
   "source": [
    "# Standard deviation analysis"
   ]
  },
  {
   "cell_type": "markdown",
   "metadata": {},
   "source": [
    "Let's say you have a gene that is normally highly expressed accross the cells in your dataset and in one cell, that gene is not detected and you want to ask: are there other genes that are aberrantly expressed in that cell and, if so, what are they? \n",
    "\n",
    "This approach allows for that. First, for each gene, the standard deviation is calculated and used to calculate the acceptable range for a gene's expression in a cell in the dataset. The user inputs a multiplier of the standard deviation to use in the creation of this range, a larger number means a wider range of non-outlier values. With this range, each gene's expression each cell is determined to be either above the range (a), below the range (b), or within the range (w). A dataframe is outputed with these values for all the data, as well as two other dataframes that count the numbers of a, b, and w values for each gene (across the cells) or each cell (across the genes). Together these outputs allow one to determine if a particular cell has a number of outier genes. "
   ]
  },
  {
   "cell_type": "code",
   "execution_count": 3,
   "metadata": {},
   "outputs": [],
   "source": [
    "def standardDeviationAnalysis(data, std_multiple, columnCounts=False, rowCounts=False):\n",
    "    '''input is a single-cell RNA sequencing data where columns are genes and rows are cells\n",
    "        using the provided value, determine the range of expression for each gene and then evaluate \n",
    "        if a cell is expressing that gene above (a), below (b), or within that range (w)'''\n",
    "    mask_high = data > (data.mean() + data.std() * std_multiple)\n",
    "    mask_low = data < (data.mean() - data.std() * std_multiple)\n",
    "    mask_in_range = ((data <= (data.mean() + (data.std() * std_multiple))) & (data >= (data.mean() - (data.std() * std_multiple))))\n",
    "    output = pd.DataFrame().reindex_like(data) # creates empty dataframe with data structure of columns and rows\n",
    "    output.replace(np.nan, '', inplace=True) # replaces the default of np.nan with empty strings\n",
    "    output.mask(mask_high, other='a', inplace=True) \n",
    "    output.mask(mask_low, other='b', inplace=True)\n",
    "    output.mask(mask_in_range, other='w', inplace=True)\n",
    "    outputCountsByColumns = output.apply(lambda x:x.value_counts()).T.replace(np.nan,0) # value counts for the values of all the rows for a col\n",
    "    outputCountsByRows = output.T.apply(lambda x:x.value_counts()).T.replace(np.nan,0) # values counts for the values of all columns for a row \n",
    "    return(output, outputCountsByColumns, outputCountsByRows)\n",
    "\n",
    "\n",
    "def outlierLists(data, classier='w'):\n",
    "    df = data.T\n",
    "    dic = {}\n",
    "    for i in list(df.columns):\n",
    "        outliers = df[i].loc[(df[i] != classier)].index\n",
    "        count = len(outliers)\n",
    "        dic[i] = list([count, list(outliers)])\n",
    "    output = pd.DataFrame.from_dict(dic, orient='index', columns=['count', 'outliers'])\n",
    "    return(output)\n"
   ]
  },
  {
   "cell_type": "code",
   "execution_count": 7,
   "metadata": {},
   "outputs": [],
   "source": [
    "outlierData, outliersCountsByGene, outliersCountsByCell = standardDeviationAnalysis(data, 10, columnCounts=False, rowCounts=False)\n",
    "outliersInCells = outlierLists(outlierData)"
   ]
  }
 ],
 "metadata": {
  "kernelspec": {
   "display_name": "Python 3",
   "language": "python",
   "name": "python3"
  },
  "language_info": {
   "codemirror_mode": {
    "name": "ipython",
    "version": 3
   },
   "file_extension": ".py",
   "mimetype": "text/x-python",
   "name": "python",
   "nbconvert_exporter": "python",
   "pygments_lexer": "ipython3",
   "version": "3.7.1"
  },
  "toc": {
   "base_numbering": 1,
   "nav_menu": {},
   "number_sections": true,
   "sideBar": true,
   "skip_h1_title": false,
   "title_cell": "Table of Contents",
   "title_sidebar": "Contents",
   "toc_cell": false,
   "toc_position": {},
   "toc_section_display": true,
   "toc_window_display": false
  }
 },
 "nbformat": 4,
 "nbformat_minor": 2
}
